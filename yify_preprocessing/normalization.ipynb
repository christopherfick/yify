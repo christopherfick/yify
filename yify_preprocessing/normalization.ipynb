{
 "cells": [
  {
   "cell_type": "code",
   "execution_count": 1,
   "id": "69579e86",
   "metadata": {},
   "outputs": [],
   "source": [
    "import pandas as pd\n",
    "\n",
    "import os\n",
    "from pathlib import Path\n",
    "\n",
    "import sqlite3 as sql"
   ]
  },
  {
   "cell_type": "markdown",
   "id": "1320441b",
   "metadata": {},
   "source": [
    "### Establish Connection to uncleaned (raw) data:"
   ]
  },
  {
   "cell_type": "code",
   "execution_count": 2,
   "id": "1cbcdabb",
   "metadata": {},
   "outputs": [],
   "source": [
    "file_path = Path(os.getcwd()).parent.absolute()\n",
    "raw_data_path = file_path /'yify_collect_data'/'data'/'movie.db'\n",
    "\n",
    "raw_conn = sql.connect(raw_data_path)\n",
    "raw_cursor = raw_conn.cursor()\n",
    "\n",
    "raw_db = pd.read_sql(\"SELECT * from movie\", raw_conn)"
   ]
  },
  {
   "cell_type": "code",
   "execution_count": null,
   "id": "04e7b21d",
   "metadata": {},
   "outputs": [],
   "source": []
  },
  {
   "cell_type": "markdown",
   "id": "680ea925",
   "metadata": {},
   "source": [
    "---\n",
    "# Create new cleaned database:"
   ]
  },
  {
   "cell_type": "code",
   "execution_count": 3,
   "id": "c31260df",
   "metadata": {},
   "outputs": [],
   "source": [
    "path = Path(os.getcwd())\n",
    "\n",
    "conn = sql.connect(path/'movie.db')\n",
    "cursor = conn.cursor()"
   ]
  },
  {
   "cell_type": "code",
   "execution_count": 4,
   "id": "74ee750d",
   "metadata": {},
   "outputs": [
    {
     "data": {
      "text/plain": [
       "<sqlite3.Cursor at 0x7fa4ec8e8ea0>"
      ]
     },
     "execution_count": 4,
     "metadata": {},
     "output_type": "execute_result"
    }
   ],
   "source": [
    "# Movies table\n",
    "cursor.execute(\"\"\"\n",
    "    DROP TABLE IF EXISTS movies;\n",
    "    \"\"\")\n",
    "\n",
    "cursor.execute(\"\"\"\n",
    "    CREATE TABLE IF NOT EXISTS movies(\n",
    "    record INTEGER PRIMARY KEY AUTOINCREMENT,\n",
    "    title TEXT NOT NULL,\n",
    "    year INTEGER,\n",
    "    genre_id TEXT NOT NULL,\n",
    "    rating INT NOT NULL,\n",
    "    href TEXT NOT NULL,\n",
    "    FOREIGN KEY(genre_id) REFERENCES genres(genre_id)\n",
    "    );\"\"\")"
   ]
  },
  {
   "cell_type": "code",
   "execution_count": null,
   "id": "a2814d6a",
   "metadata": {},
   "outputs": [],
   "source": []
  },
  {
   "cell_type": "code",
   "execution_count": 5,
   "id": "3fab4197",
   "metadata": {},
   "outputs": [
    {
     "data": {
      "text/plain": [
       "<sqlite3.Cursor at 0x7fa4ec8e8ea0>"
      ]
     },
     "execution_count": 5,
     "metadata": {},
     "output_type": "execute_result"
    }
   ],
   "source": [
    "# Genres table\n",
    "cursor.execute(\"\"\"\n",
    "    DROP TABLE IF EXISTS genres;\n",
    "    \"\"\")\n",
    "\n",
    "cursor.execute(\"\"\"\n",
    "    CREATE TABLE IF NOT EXISTS genres(\n",
    "    genre TEXT NOT NULL,\n",
    "    genre_id INTEGER PRIMARY KEY AUTOINCREMENT,\n",
    "    FOREIGN KEY(genre_id) REFERENCES movies(genre_id)\n",
    "    );\"\"\")\n"
   ]
  },
  {
   "cell_type": "markdown",
   "id": "35e76d86",
   "metadata": {},
   "source": [
    "--- \n",
    "### Get the unique genres from column"
   ]
  },
  {
   "cell_type": "code",
   "execution_count": 6,
   "id": "3c0839b5",
   "metadata": {},
   "outputs": [],
   "source": [
    "def get_unique_genre(genre_column):\n",
    "    unique_genre = []\n",
    "    for genres in genre_column:\n",
    "        genres = genres.split('/')\n",
    "        for genre in genres:\n",
    "            cleaned_genre = genre.strip()\n",
    "            if cleaned_genre not in unique_genre:\n",
    "                unique_genre.append(cleaned_genre)\n",
    "    return sorted(unique_genre)\n",
    " \n",
    "    \n",
    "unique_genre = get_unique_genre(raw_db['genre'])  "
   ]
  },
  {
   "cell_type": "markdown",
   "id": "cc7748bc",
   "metadata": {},
   "source": [
    "### Inserting clean values into database"
   ]
  },
  {
   "cell_type": "code",
   "execution_count": 7,
   "id": "2cd6fcac",
   "metadata": {},
   "outputs": [],
   "source": [
    "unique_genre_clean = [genre.replace('-', ' ').lower() for genre in unique_genre]\n",
    "\n",
    "for genre in unique_genre_clean:\n",
    "    cursor.execute(f\"\"\"\n",
    "        INSERT INTO genres(genre)\n",
    "        VALUES(\"{genre}\");\"\"\")\n",
    "    \n",
    "conn.commit()"
   ]
  },
  {
   "cell_type": "code",
   "execution_count": 8,
   "id": "514684c0",
   "metadata": {},
   "outputs": [],
   "source": [
    "### Better name for function\n",
    "def remove_row(data, null_count=0):\n",
    "    \"\"\"Remove row, if contains the same amount or more null values than the null count\"\"\"\n",
    "    data = data.copy(deep=True)\n",
    "    drop_rows = data[data.isnull().sum(axis=1) >= null_count].index\n",
    "    return data.drop(index=drop_rows)"
   ]
  },
  {
   "cell_type": "markdown",
   "id": "0895d76b",
   "metadata": {},
   "source": [
    "---\n",
    "### Cleaning and structuring DataBase"
   ]
  },
  {
   "cell_type": "code",
   "execution_count": 11,
   "id": "abfb2dd2",
   "metadata": {},
   "outputs": [
    {
     "data": {
      "text/html": [
       "<div>\n",
       "<style scoped>\n",
       "    .dataframe tbody tr th:only-of-type {\n",
       "        vertical-align: middle;\n",
       "    }\n",
       "\n",
       "    .dataframe tbody tr th {\n",
       "        vertical-align: top;\n",
       "    }\n",
       "\n",
       "    .dataframe thead th {\n",
       "        text-align: right;\n",
       "    }\n",
       "</style>\n",
       "<table border=\"1\" class=\"dataframe\">\n",
       "  <thead>\n",
       "    <tr style=\"text-align: right;\">\n",
       "      <th></th>\n",
       "      <th>title</th>\n",
       "      <th>year</th>\n",
       "      <th>genre</th>\n",
       "      <th>rating</th>\n",
       "      <th>href</th>\n",
       "    </tr>\n",
       "  </thead>\n",
       "  <tbody>\n",
       "    <tr>\n",
       "      <th>0</th>\n",
       "      <td>The Founding of a Republic</td>\n",
       "      <td>2009</td>\n",
       "      <td>Action</td>\n",
       "      <td>4.9</td>\n",
       "      <td>https://yts.mx/movies/the-founding-of-a-republ...</td>\n",
       "    </tr>\n",
       "    <tr>\n",
       "      <th>0</th>\n",
       "      <td>The Founding of a Republic</td>\n",
       "      <td>2009</td>\n",
       "      <td>Drama</td>\n",
       "      <td>4.9</td>\n",
       "      <td>https://yts.mx/movies/the-founding-of-a-republ...</td>\n",
       "    </tr>\n",
       "    <tr>\n",
       "      <th>0</th>\n",
       "      <td>The Founding of a Republic</td>\n",
       "      <td>2009</td>\n",
       "      <td>History</td>\n",
       "      <td>4.9</td>\n",
       "      <td>https://yts.mx/movies/the-founding-of-a-republ...</td>\n",
       "    </tr>\n",
       "    <tr>\n",
       "      <th>0</th>\n",
       "      <td>The Founding of a Republic</td>\n",
       "      <td>2009</td>\n",
       "      <td>War</td>\n",
       "      <td>4.9</td>\n",
       "      <td>https://yts.mx/movies/the-founding-of-a-republ...</td>\n",
       "    </tr>\n",
       "    <tr>\n",
       "      <th>1</th>\n",
       "      <td>Nude Tuesday</td>\n",
       "      <td>2022</td>\n",
       "      <td>Comedy</td>\n",
       "      <td>6.7</td>\n",
       "      <td>https://yts.mx/movies/nude-tuesday-2022</td>\n",
       "    </tr>\n",
       "    <tr>\n",
       "      <th>...</th>\n",
       "      <td>...</td>\n",
       "      <td>...</td>\n",
       "      <td>...</td>\n",
       "      <td>...</td>\n",
       "      <td>...</td>\n",
       "    </tr>\n",
       "    <tr>\n",
       "      <th>43924</th>\n",
       "      <td>The Laramie Project</td>\n",
       "      <td>2002</td>\n",
       "      <td>Drama</td>\n",
       "      <td>7.1</td>\n",
       "      <td>https://yts.mx/movies/the-laramie-project-2002</td>\n",
       "    </tr>\n",
       "    <tr>\n",
       "      <th>43924</th>\n",
       "      <td>The Laramie Project</td>\n",
       "      <td>2002</td>\n",
       "      <td>History</td>\n",
       "      <td>7.1</td>\n",
       "      <td>https://yts.mx/movies/the-laramie-project-2002</td>\n",
       "    </tr>\n",
       "    <tr>\n",
       "      <th>43925</th>\n",
       "      <td>The Shadow Line</td>\n",
       "      <td>1976</td>\n",
       "      <td>Drama</td>\n",
       "      <td>6.2</td>\n",
       "      <td>https://yts.mx/movies/the-shadow-line-1976</td>\n",
       "    </tr>\n",
       "    <tr>\n",
       "      <th>43926</th>\n",
       "      <td>Incantation</td>\n",
       "      <td>2022</td>\n",
       "      <td>Horror</td>\n",
       "      <td>6.2</td>\n",
       "      <td>https://yts.mx/movies/incantation-2022</td>\n",
       "    </tr>\n",
       "    <tr>\n",
       "      <th>43926</th>\n",
       "      <td>Incantation</td>\n",
       "      <td>2022</td>\n",
       "      <td>Mystery</td>\n",
       "      <td>6.2</td>\n",
       "      <td>https://yts.mx/movies/incantation-2022</td>\n",
       "    </tr>\n",
       "  </tbody>\n",
       "</table>\n",
       "<p>140279 rows × 5 columns</p>\n",
       "</div>"
      ],
      "text/plain": [
       "                            title  year      genre  rating  \\\n",
       "0      The Founding of a Republic  2009    Action      4.9   \n",
       "0      The Founding of a Republic  2009     Drama      4.9   \n",
       "0      The Founding of a Republic  2009   History      4.9   \n",
       "0      The Founding of a Republic  2009        War     4.9   \n",
       "1                    Nude Tuesday  2022    Comedy      6.7   \n",
       "...                           ...   ...        ...     ...   \n",
       "43924         The Laramie Project  2002     Drama      7.1   \n",
       "43924         The Laramie Project  2002    History     7.1   \n",
       "43925             The Shadow Line  1976      Drama     6.2   \n",
       "43926                 Incantation  2022    Horror      6.2   \n",
       "43926                 Incantation  2022    Mystery     6.2   \n",
       "\n",
       "                                                    href  \n",
       "0      https://yts.mx/movies/the-founding-of-a-republ...  \n",
       "0      https://yts.mx/movies/the-founding-of-a-republ...  \n",
       "0      https://yts.mx/movies/the-founding-of-a-republ...  \n",
       "0      https://yts.mx/movies/the-founding-of-a-republ...  \n",
       "1                https://yts.mx/movies/nude-tuesday-2022  \n",
       "...                                                  ...  \n",
       "43924     https://yts.mx/movies/the-laramie-project-2002  \n",
       "43924     https://yts.mx/movies/the-laramie-project-2002  \n",
       "43925         https://yts.mx/movies/the-shadow-line-1976  \n",
       "43926             https://yts.mx/movies/incantation-2022  \n",
       "43926             https://yts.mx/movies/incantation-2022  \n",
       "\n",
       "[140279 rows x 5 columns]"
      ]
     },
     "execution_count": 11,
     "metadata": {},
     "output_type": "execute_result"
    }
   ],
   "source": [
    "df = raw_db.copy()\n",
    "\n",
    "# Convert genre to a list of strings\n",
    "df.genre = [genre.strip().split('/') for genre in df.genre]\n",
    "\n",
    "# Expand genre such that each row has one genre onlye\n",
    "df = df.explode('genre')\n",
    "\n",
    "df = df.replace('None', None)\n",
    "df = remove_row(df, null_count=2)\n",
    "\n",
    "# Convert genre to genre_id\n",
    "## Add a dictionary to map genre -> genre_id"
   ]
  }
 ],
 "metadata": {
  "kernelspec": {
   "display_name": "Python 3 (ipykernel)",
   "language": "python",
   "name": "python3"
  },
  "language_info": {
   "codemirror_mode": {
    "name": "ipython",
    "version": 3
   },
   "file_extension": ".py",
   "mimetype": "text/x-python",
   "name": "python",
   "nbconvert_exporter": "python",
   "pygments_lexer": "ipython3",
   "version": "3.9.12"
  }
 },
 "nbformat": 4,
 "nbformat_minor": 5
}
