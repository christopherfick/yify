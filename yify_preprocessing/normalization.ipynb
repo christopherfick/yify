{
 "cells": [
  {
   "cell_type": "code",
   "execution_count": 1,
   "id": "69579e86",
   "metadata": {},
   "outputs": [],
   "source": [
    "import pandas as pd\n",
    "\n",
    "import os\n",
    "from pathlib import Path\n",
    "\n",
    "import sqlite3 as sql"
   ]
  },
  {
   "cell_type": "markdown",
   "id": "1320441b",
   "metadata": {},
   "source": [
    "### Establish Connection to uncleaned (raw) data:"
   ]
  },
  {
   "cell_type": "code",
   "execution_count": 2,
   "id": "1cbcdabb",
   "metadata": {},
   "outputs": [],
   "source": [
    "project_path = Path(os.getcwd()).parent.absolute()\n",
    "raw_data_path = project_path/'yify_collect_data'/'data'/'movie.db'\n",
    "\n",
    "raw_conn = sql.connect(raw_data_path)\n",
    "raw_cursor = raw_conn.cursor()\n",
    "\n",
    "raw_db = pd.read_sql(\"SELECT * from movie\", raw_conn)"
   ]
  },
  {
   "cell_type": "markdown",
   "id": "83a3f132",
   "metadata": {},
   "source": [
    "# Clean raw database:"
   ]
  },
  {
   "cell_type": "code",
   "execution_count": 173,
   "id": "3c0839b5",
   "metadata": {
    "scrolled": true
   },
   "outputs": [],
   "source": [
    "def get_unique_genre(genre_column):\n",
    "    unique_genre = []\n",
    "    for genres in genre_column:\n",
    "        genres = genres.split('/')\n",
    "        for genre in genres:\n",
    "            cleaned_genre = genre.strip()\n",
    "            if cleaned_genre not in unique_genre:\n",
    "                unique_genre.append(cleaned_genre)\n",
    "    return sorted(unique_genre)\n",
    "\n",
    "### Better name for function\n",
    "def remove_row(data, null_count=0):\n",
    "    \"\"\"Remove row, if contains the same amount or more null values than the null count\"\"\"\n",
    "    data = data.copy(deep=True)\n",
    "    drop_rows = data[data.isnull().sum(axis=1) >= null_count].index\n",
    "    return data.drop(index=drop_rows)\n",
    "\n",
    "df = raw_db.copy()\n",
    "\n",
    "# Convert genre to a list of strings\n",
    "df.genre = [genre.strip().split('/') for genre in df.genre]\n",
    "\n",
    "# Expand genre such that each row has one genre only\n",
    "df = df.explode('genre')\n",
    "\n",
    "# Remove punctuation and Capatilazation\n",
    "df.genre = [genre.replace('-', ' ').strip().lower() for genre in df.genre]\n",
    "\n",
    "# Sorted unique genre values\n",
    "unique_genre = get_unique_genre(df.genre)\n",
    "\n",
    "# Map genre to dictionary\n",
    "genre_dict = {key:value+1 for value, key in enumerate(unique_genre)}\n",
    "\n",
    "# Apply map to dataframe\n",
    "df.genre = [genre_dict[genre] for genre in df.genre]\n",
    "\n",
    "# Update genre column name\n",
    "df = df.rename({'genre':'genre_id'}, axis=1)\n",
    "\n",
    "# Handle missing values\n",
    "df = df.replace(['None'], None)\n",
    "df = remove_row(df, null_count=1)\n",
    "\n",
    "# Reset index\n",
    "df = df.reset_index(drop=True)\n",
    "\n",
    "# Remove movies that generated a 404 Error\n",
    "df = df[df['title'] != '404 Error']\n",
    "\n",
    "# Remove dubplicates\n",
    "# df = df.drop_duplicates(['title', 'href'])\n",
    "\n",
    "# Create new tables from cleaned df\n",
    "movie = df.drop('genre_id', axis=1)\n",
    "movie = movie.drop_duplicates(['title', 'href']).reset_index(drop=True)\n",
    "\n",
    "movie_genre_map = df[['title', 'genre_id']]\n",
    "\n",
    "genre = pd.DataFrame.from_dict({'genre_id':genre_dict.values(), \n",
    "                                'genre':genre_dict.keys()})"
   ]
  },
  {
   "cell_type": "code",
   "execution_count": 162,
   "id": "e486ae24",
   "metadata": {},
   "outputs": [
    {
     "data": {
      "text/html": [
       "<div>\n",
       "<style scoped>\n",
       "    .dataframe tbody tr th:only-of-type {\n",
       "        vertical-align: middle;\n",
       "    }\n",
       "\n",
       "    .dataframe tbody tr th {\n",
       "        vertical-align: top;\n",
       "    }\n",
       "\n",
       "    .dataframe thead th {\n",
       "        text-align: right;\n",
       "    }\n",
       "</style>\n",
       "<table border=\"1\" class=\"dataframe\">\n",
       "  <thead>\n",
       "    <tr style=\"text-align: right;\">\n",
       "      <th></th>\n",
       "      <th>title</th>\n",
       "      <th>year</th>\n",
       "      <th>rating</th>\n",
       "      <th>href</th>\n",
       "    </tr>\n",
       "  </thead>\n",
       "  <tbody>\n",
       "    <tr>\n",
       "      <th>22422</th>\n",
       "      <td>15+ Coming of Age</td>\n",
       "      <td>2017</td>\n",
       "      <td>5.7</td>\n",
       "      <td>https://yts.mx/movies/15-coming-of-age-2017</td>\n",
       "    </tr>\n",
       "    <tr>\n",
       "      <th>15042</th>\n",
       "      <td>15+ Coming of Age</td>\n",
       "      <td>2017</td>\n",
       "      <td>5.7</td>\n",
       "      <td>https://yts.mx/movies/15-coming-of-age-2-2017</td>\n",
       "    </tr>\n",
       "    <tr>\n",
       "      <th>27822</th>\n",
       "      <td>A Mouse Tale</td>\n",
       "      <td>2012</td>\n",
       "      <td>4.9</td>\n",
       "      <td>https://yts.mx/movies/a-mouse-tale-2-2012</td>\n",
       "    </tr>\n",
       "    <tr>\n",
       "      <th>13859</th>\n",
       "      <td>A Mouse Tale</td>\n",
       "      <td>2012</td>\n",
       "      <td>4.9</td>\n",
       "      <td>https://yts.mx/movies/a-mouse-tale-2012</td>\n",
       "    </tr>\n",
       "    <tr>\n",
       "      <th>13784</th>\n",
       "      <td>Apartment 407</td>\n",
       "      <td>2016</td>\n",
       "      <td>5.8</td>\n",
       "      <td>https://yts.mx/movies/apartment-407-2016</td>\n",
       "    </tr>\n",
       "    <tr>\n",
       "      <th>...</th>\n",
       "      <td>...</td>\n",
       "      <td>...</td>\n",
       "      <td>...</td>\n",
       "      <td>...</td>\n",
       "    </tr>\n",
       "    <tr>\n",
       "      <th>33678</th>\n",
       "      <td>The Guardians</td>\n",
       "      <td>2017</td>\n",
       "      <td>6.7</td>\n",
       "      <td>https://yts.mx/movies/the-guardians-2017</td>\n",
       "    </tr>\n",
       "    <tr>\n",
       "      <th>7474</th>\n",
       "      <td>The Lovers' Guide: Igniting Desire</td>\n",
       "      <td>2011</td>\n",
       "      <td>6.2</td>\n",
       "      <td>https://yts.mx/movies/the-lovers-guide-ignitin...</td>\n",
       "    </tr>\n",
       "    <tr>\n",
       "      <th>27212</th>\n",
       "      <td>The Lovers' Guide: Igniting Desire</td>\n",
       "      <td>2011</td>\n",
       "      <td>0.0</td>\n",
       "      <td>https://yts.mx/movies/the-lovers-guide-ignitin...</td>\n",
       "    </tr>\n",
       "    <tr>\n",
       "      <th>11191</th>\n",
       "      <td>The Projectionist</td>\n",
       "      <td>2019</td>\n",
       "      <td>6.4</td>\n",
       "      <td>https://yts.mx/movies/the-projectionist-2019</td>\n",
       "    </tr>\n",
       "    <tr>\n",
       "      <th>9690</th>\n",
       "      <td>The Projectionist</td>\n",
       "      <td>2019</td>\n",
       "      <td>6.2</td>\n",
       "      <td>https://yts.mx/movies/the-projectionist-2-2019</td>\n",
       "    </tr>\n",
       "  </tbody>\n",
       "</table>\n",
       "<p>76 rows × 4 columns</p>\n",
       "</div>"
      ],
      "text/plain": [
       "                                    title  year  rating  \\\n",
       "22422                   15+ Coming of Age  2017     5.7   \n",
       "15042                   15+ Coming of Age  2017     5.7   \n",
       "27822                        A Mouse Tale  2012     4.9   \n",
       "13859                        A Mouse Tale  2012     4.9   \n",
       "13784                       Apartment 407  2016     5.8   \n",
       "...                                   ...   ...     ...   \n",
       "33678                       The Guardians  2017     6.7   \n",
       "7474   The Lovers' Guide: Igniting Desire  2011     6.2   \n",
       "27212  The Lovers' Guide: Igniting Desire  2011     0.0   \n",
       "11191                   The Projectionist  2019     6.4   \n",
       "9690                    The Projectionist  2019     6.2   \n",
       "\n",
       "                                                    href  \n",
       "22422        https://yts.mx/movies/15-coming-of-age-2017  \n",
       "15042      https://yts.mx/movies/15-coming-of-age-2-2017  \n",
       "27822          https://yts.mx/movies/a-mouse-tale-2-2012  \n",
       "13859            https://yts.mx/movies/a-mouse-tale-2012  \n",
       "13784           https://yts.mx/movies/apartment-407-2016  \n",
       "...                                                  ...  \n",
       "33678           https://yts.mx/movies/the-guardians-2017  \n",
       "7474   https://yts.mx/movies/the-lovers-guide-ignitin...  \n",
       "27212  https://yts.mx/movies/the-lovers-guide-ignitin...  \n",
       "11191       https://yts.mx/movies/the-projectionist-2019  \n",
       "9690      https://yts.mx/movies/the-projectionist-2-2019  \n",
       "\n",
       "[76 rows x 4 columns]"
      ]
     },
     "execution_count": 162,
     "metadata": {},
     "output_type": "execute_result"
    }
   ],
   "source": [
    "# Discovered duplicate title names \n",
    "## Create movie_id to track unique titles\n",
    "temp = movie.copy()\n",
    "\n",
    "\n",
    "temp[temp.duplicated(['title','year'], keep=False)].sort_values('title')"
   ]
  },
  {
   "cell_type": "markdown",
   "id": "680ea925",
   "metadata": {},
   "source": [
    "---\n",
    "# Create new database:"
   ]
  },
  {
   "cell_type": "code",
   "execution_count": 35,
   "id": "c31260df",
   "metadata": {},
   "outputs": [],
   "source": [
    "path = Path(os.getcwd())\n",
    "\n",
    "conn = sql.connect(path/'movie.db')\n",
    "cursor = conn.cursor()"
   ]
  },
  {
   "cell_type": "code",
   "execution_count": 164,
   "id": "74ee750d",
   "metadata": {},
   "outputs": [
    {
     "data": {
      "text/plain": [
       "<sqlite3.Cursor at 0x7f3a7b79fb20>"
      ]
     },
     "execution_count": 164,
     "metadata": {},
     "output_type": "execute_result"
    }
   ],
   "source": [
    "# movie table\n",
    "cursor.execute(\"\"\"\n",
    "    DROP TABLE IF EXISTS movie;\n",
    "    \"\"\")\n",
    "\n",
    "cursor.execute(\"\"\"\n",
    "    CREATE TABLE IF NOT EXISTS movie(\n",
    "    title TEXT NOT NULL,\n",
    "    year INTEGER,\n",
    "    rating INT NOT NULL,\n",
    "    href TEXT NOT NULL\n",
    "    );\"\"\")"
   ]
  },
  {
   "cell_type": "code",
   "execution_count": 91,
   "id": "7d20e8bf",
   "metadata": {},
   "outputs": [
    {
     "data": {
      "text/plain": [
       "<sqlite3.Cursor at 0x7f3a7b79fb20>"
      ]
     },
     "execution_count": 91,
     "metadata": {},
     "output_type": "execute_result"
    }
   ],
   "source": [
    "# movie_genre_map\n",
    "cursor.execute(\"\"\"\n",
    "    DROP TABLE IF EXISTS movie_genre_map;\n",
    "    \"\"\")\n",
    "\n",
    "cursor.execute(\"\"\"\n",
    "    CREATE TABLE IF NOT EXISTS movie_genre_map(\n",
    "    title TEXT NOT NULL,\n",
    "    genre_id INTEGER,\n",
    "    FOREIGN KEY(title) REFERENCES movie(title),\n",
    "    FOREIGN KEY(genre_id) REFERENCES genre(genre_id)\n",
    "    );\"\"\")"
   ]
  },
  {
   "cell_type": "code",
   "execution_count": 92,
   "id": "3fab4197",
   "metadata": {},
   "outputs": [
    {
     "data": {
      "text/plain": [
       "<sqlite3.Cursor at 0x7f3a7b79fb20>"
      ]
     },
     "execution_count": 92,
     "metadata": {},
     "output_type": "execute_result"
    }
   ],
   "source": [
    "# genre table\n",
    "cursor.execute(\"\"\"\n",
    "    DROP TABLE IF EXISTS genre;\n",
    "    \"\"\")\n",
    "\n",
    "cursor.execute(\"\"\"\n",
    "    CREATE TABLE IF NOT EXISTS genre(\n",
    "    genre_id INTEGER PRIMARY KEY AUTOINCREMENT,\n",
    "    genre TEXT NOT NULL\n",
    "    );\"\"\")\n"
   ]
  },
  {
   "cell_type": "markdown",
   "id": "cc7748bc",
   "metadata": {},
   "source": [
    "### Inserting values into new database"
   ]
  },
  {
   "cell_type": "code",
   "execution_count": 93,
   "id": "2cd6fcac",
   "metadata": {},
   "outputs": [
    {
     "data": {
      "text/plain": [
       "140279"
      ]
     },
     "execution_count": 93,
     "metadata": {},
     "output_type": "execute_result"
    }
   ],
   "source": [
    "# Have to first deal with duplicate titles\n",
    "# movie.to_sql('movie', conn, if_exists='append', index=False)\n",
    "genre.to_sql('genre', conn, if_exists='append', index=False)\n",
    "movie_genre_map.to_sql('movie_genre_map', conn, if_exists='append', index=False)"
   ]
  }
 ],
 "metadata": {
  "kernelspec": {
   "display_name": "Python 3 (ipykernel)",
   "language": "python",
   "name": "python3"
  },
  "language_info": {
   "codemirror_mode": {
    "name": "ipython",
    "version": 3
   },
   "file_extension": ".py",
   "mimetype": "text/x-python",
   "name": "python",
   "nbconvert_exporter": "python",
   "pygments_lexer": "ipython3",
   "version": "3.9.12"
  }
 },
 "nbformat": 4,
 "nbformat_minor": 5
}
